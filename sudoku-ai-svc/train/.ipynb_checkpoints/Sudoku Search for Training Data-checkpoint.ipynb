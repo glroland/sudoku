{
 "cells": [
  {
   "cell_type": "markdown",
   "id": "f6a43218-a22c-42af-bc41-2096ec634fd8",
   "metadata": {},
   "source": [
    "# Sudoku Search for Training Data"
   ]
  },
  {
   "cell_type": "code",
   "execution_count": null,
   "id": "57615e47-f1ab-4276-afcb-5c5868c7ab90",
   "metadata": {},
   "outputs": [],
   "source": [
    "import os\n",
    "import uuid\n",
    "import hashlib\n",
    "import torch\n",
    "import ray\n",
    "from fastbook import *\n",
    "from fastdownload import FastDownload"
   ]
  },
  {
   "cell_type": "code",
   "execution_count": null,
   "id": "d33a9bf2-cd39-40c2-b261-5a8d97aa2678",
   "metadata": {},
   "outputs": [],
   "source": [
    "imageDir = \"./search\""
   ]
  },
  {
   "cell_type": "code",
   "execution_count": null,
   "id": "4ad0876b-21fa-4885-b1d0-b81485b3cf15",
   "metadata": {},
   "outputs": [],
   "source": [
    "urls = search_images_ddg('sudoku', max_images=400)\n",
    "len(urls),urls[0]"
   ]
  },
  {
   "cell_type": "code",
   "execution_count": null,
   "id": "29bce2c6-0111-4b03-87a4-6bd8edc42151",
   "metadata": {},
   "outputs": [],
   "source": [
    "def calculateMd5(filename):\n",
    "    runningMd5 = hashlib.md5()\n",
    "    with open(filename, \"rb\") as f:\n",
    "        for chunk in iter(lambda: f.read(4096), b\"\"):\n",
    "            runningMd5.update(chunk)\n",
    "    return runningMd5.hexdigest()"
   ]
  },
  {
   "cell_type": "code",
   "execution_count": null,
   "id": "acb09a16-600d-42b6-8723-4516373878a6",
   "metadata": {},
   "outputs": [],
   "source": [
    "def doesContentAlreadyExist(filename, dir):\n",
    "    newFileHash = calculateMd5(filename)\n",
    "\n",
    "    for f in os.listdir(dir):\n",
    "        absFile = os.path.join(dir, f)\n",
    "        if os.path.isfile(absFile):\n",
    "            hash = calculateMd5(absFile)\n",
    "            if (hash == newFileHash):\n",
    "                return True\n",
    "\n",
    "    return False"
   ]
  },
  {
   "cell_type": "code",
   "execution_count": null,
   "id": "1573d1e0-770f-4bec-b417-4c1c5f4be1c9",
   "metadata": {},
   "outputs": [],
   "source": [
    "d = FastDownload(base=imageDir, archive='downloaded', data='extracted')\n",
    "for url in urls:\n",
    "#    url = url.split('?')[0]\n",
    "    print (\"Processing URL: \" + url)\n",
    "    try:\n",
    "        d.download(url)\n",
    "    except HTTPError:\n",
    "        print(\"Skipping url due to HTTP connection issue\")\n",
    "    except URLError:\n",
    "        print(\"Skipping url due to a malformed URL issue of some type\")\n",
    "\n",
    "#    e = re.findall('\\.[a-z]+$', url)\n",
    "#    if (len(e)) == 1:\n",
    "#        fileExtension = e[0]\n",
    "#        randomName = str(uuid.uuid4().hex)\n",
    "#        filename = randomName + fileExtension\n",
    "#        tempFilename = \"/tmp/\" + filename\n",
    "        \n",
    "#        download_url(url, tempFilename)\n",
    "\n",
    "#        if doesContentAlreadyExist(tempFilename, imageDir) == True:\n",
    "#            print (\"Found: \" + tempFilename)\n",
    "#            os.remove(tempFilename)\n",
    "#        else:\n",
    "#            print (\"NEW: \" + tempFilename)\n",
    "#            os.replace(tempFilename, imageDir + \"/\" + filename)\n",
    "\n",
    "#    else:\n",
    "#        print (\"Unable to process image due to unexpected extension: \" + e + \" with URL: \" + url)"
   ]
  },
  {
   "cell_type": "code",
   "execution_count": null,
   "id": "2b3e2950-a6bf-4c9c-8a37-28a646ac78fc",
   "metadata": {},
   "outputs": [],
   "source": [
    "ds = ray.data.read_images(imageDir)\n",
    "print (\"Number of records: \" + str(ds.count()))\n",
    "print (\"Size of data set: \" + str(ds.size_bytes()) + \" bytes\")"
   ]
  },
  {
   "cell_type": "code",
   "execution_count": null,
   "id": "01d17ecb-4f35-4c4e-8024-28ee1ab266a5",
   "metadata": {},
   "outputs": [],
   "source": []
  }
 ],
 "metadata": {
  "kernelspec": {
   "display_name": "Python 3 (ipykernel)",
   "language": "python",
   "name": "python3"
  },
  "language_info": {
   "codemirror_mode": {
    "name": "ipython",
    "version": 3
   },
   "file_extension": ".py",
   "mimetype": "text/x-python",
   "name": "python",
   "nbconvert_exporter": "python",
   "pygments_lexer": "ipython3",
   "version": "3.10.0"
  }
 },
 "nbformat": 4,
 "nbformat_minor": 5
}
