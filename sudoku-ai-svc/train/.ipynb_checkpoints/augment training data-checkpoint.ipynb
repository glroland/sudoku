{
 "cells": [
  {
   "cell_type": "code",
   "execution_count": 34,
   "id": "20f37ae5-837f-47d9-b9e7-9d67379ac556",
   "metadata": {},
   "outputs": [],
   "source": [
    "from fastbook import *"
   ]
  },
  {
   "cell_type": "code",
   "execution_count": 38,
   "id": "e15181b9-02fd-42a3-8d1e-3852f8cffa1f",
   "metadata": {},
   "outputs": [
    {
     "data": {
      "text/plain": [
       "(100,\n",
       " 'https://2.bp.blogspot.com/-9Paf2JZ2UgU/UYNnL6ln3TI/AAAAAAAAAe0/taLbNWAJgqo/s1600/SUDOKU.jpg')"
      ]
     },
     "execution_count": 38,
     "metadata": {},
     "output_type": "execute_result"
    }
   ],
   "source": [
    "urls = search_images_ddg('sudoku', max_images=100)\n",
    "len(urls),urls[0]"
   ]
  },
  {
   "cell_type": "code",
   "execution_count": 37,
   "id": "d6dc0706-bc6f-4cca-8196-ccc933ac77dc",
   "metadata": {},
   "outputs": [
    {
     "name": "stdout",
     "output_type": "stream",
     "text": [
      "['https://2.bp.blogspot.com/-9Paf2JZ2UgU/UYNnL6ln3TI/AAAAAAAAAe0/taLbNWAJgqo/s1600/SUDOKU.jpg', 'http://photos1.blogger.com/blogger/546/1536/1024/500sudokus-acrobat_Page_034.jpg', 'https://3.bp.blogspot.com/-SZia8zqTvcQ/Thl4uK6qqdI/AAAAAAAAAVk/ocP8H1q7ozg/s1600/3.jpg', 'https://printablesudokufree.com/wp-content/uploads/2019/05/easy-printable-sudoku-rtrs-online-printable-sudoku-beginner.png', 'https://3.bp.blogspot.com/-FOW29j5S9K4/Tj-lkE-QCiI/AAAAAAAAEPY/Tf3eDwSv-oM/s1600/100-sudoku-facil_Page_083.jpg', 'https://photos1.blogger.com/blogger/546/1536/1024/500sudokus-acrobat_Page_504.jpg', 'https://printablesudokufree.com/wp-content/uploads/2019/05/sudoku-templates-under-bergdorfbib-co-printable-irregular-sudoku.jpg', 'https://printablesudokufree.com/wp-content/uploads/2019/05/free-sudoku-for-your-local-publications-sudoku-of-the-day-printable-sudoku-multiple-per-page.png', 'https://my-sudoku.com/images/snap_banner.jpg', 'https://printablesudokufree.com/wp-content/uploads/2019/05/sudoku-solving-algorithms-wikipedia-printable-sudoku-2-per-page-blank.png', 'http://oppidanlibrary.com/wp-content/uploads/2017/05/Free-Printable-Sudoku-Puzzles.jpg', 'https://sudokuprintables.com/wp-content/uploads/2020/03/sudoku-puzzler-free-printable-updated-sudoku-puzzles-6.jpg', 'https://sudokuprintables.com/wp-content/uploads/2020/03/easy-sudoku-puzzleskrazydad-volume-2-book-4-pages-1-1.jpg', 'https://coloringkids.org/wp-content/uploads/printable-sudoku-puzzles-6.png', 'https://crosswordpuzzles-printable.com/wp-content/uploads/2019/06/printable-sudoku-printable-sudoku-puzzles-for-beginners-1.jpg', 'https://1.bp.blogspot.com/-qyzclwdo-FM/XQE369kyRiI/AAAAAAAACAw/x8qt_vHTU8IsAHdj7qCUHPhvtlvlpCLPQCLcBGAs/s1600/29.%2BPalindrome%2BSudoku-1.jpg', 'https://free-printablehq.com/wp-content/uploads/2019/07/easy-sudoku-printable-kids-activities-free-printable-sudoku-with-answers.jpg', 'https://www.printablee.com/postpic/2010/12/printable-sudoku-puzzles_43225.jpg', 'https://www.rd.com/wp-content/uploads/2020/12/Sudoku27.jpg', 'https://sudokuprintables.com/wp-content/uploads/2020/04/sudoku-template-28-images-search-results-for-blank.png', 'https://oppidanlibrary.com/wp-content/uploads/2017/05/Easy-Sudoku-Puzzles-Download.jpg', 'https://clipground.com/images/sudoku-png-5.png', 'http://1.bp.blogspot.com/-cf23Mk4P_zg/Tm719dBNNpI/AAAAAAAAK8E/UKWt79yBZ-0/s1600/easy+sudoku+printable.png', 'https://i.pinimg.com/originals/36/ae/6a/36ae6a9e11c2d55bd2f25b6c8b672e00.jpg', 'https://www.activityshelter.com/wp-content/uploads/2017/04/soduko-for-kids-free.jpg', 'https://crosswordpuzzles-printable.com/wp-content/uploads/2019/06/sudoku-puzzler-free-printable-updated-sudoku-puzzles-with-a-printable-puzzles-sudoku.jpg', 'https://i0.wp.com/www.printablee.com/postpic/2011/01/free-printable-16x16-sudoku-puzzles_370901.jpg', 'http://static.guim.co.uk/sys-images/Guardian/Pix/pictures/2010/8/20/1282327661202/The-worlds-hardest-sudoku-008.jpg', 'https://usercontent1.hubstatic.com/9443002_f260.jpg', 'https://1.bp.blogspot.com/_Kh0CZuWd0T8/TJmBKYzA5oI/AAAAAAAAIcU/7ODfhhUhtds/s1600/massive+samurai+sudoku+puzzle.jpg', 'https://miro.medium.com/max/4000/1*z6Qli8oi_nOPQCyqo3rRVg.png', 'https://printablesudokufree.com/wp-content/uploads/2019/05/sudoku-grids-under-bergdorfbib-co-free-printable-sudoku-grids-1017x1024.jpg', 'https://printablesudokufree.com/wp-content/uploads/2019/05/sudokulinks-a-stepstep-tutorial-on-how-to-play-sudoku-printable-sudoku-rules-1024x1002.png', 'https://crosswordpuzzles-printable.com/wp-content/uploads/2019/06/printable-sudoku-free-printable-sudoku-puzzles-9x9.jpg', 'https://i.pinimg.com/originals/59/00/8a/59008a17942a8dd41366fd872f019eaf.jpg', 'https://printablesudokufree.com/wp-content/uploads/2019/05/sudoku-printable-free-medium-printable-sudoku-puzzle-1-my-printable-sudoku-4-per-page-blank.jpg', 'http://photos1.blogger.com/blogger/546/1536/1024/500sudokus-acrobat_Page_017.jpg', 'https://www.surfnetkids.com/games/play/wp-content/uploads/2014/12/bigstock-Sudoku-game-15203114.jpg', 'http://www.champak.in/wp-content/uploads/2017/07/Sudoku-Apr-I-2012.jpg', 'http://photos1.blogger.com/blogger/546/1536/1024/500sudokus-acrobat_Page_043.jpg', 'http://coloringkids.org/wp-content/uploads/printable-sudoku-puzzles-9.jpg', 'https://sudokuprintables.com/wp-content/uploads/2020/04/lovely-blank-sudoku-worksheet-educational-worksheet-9.jpg', 'https://usercontent2.hubstatic.com/3149267.png', 'http://4.bp.blogspot.com/-hVfVa5yOArE/TagYG4bwGJI/AAAAAAAAJ2M/F8Lpieq6VEc/s1600/diffidult+printable+sudoko.png', 'https://makebreaks.com/wp-content/uploads/2020/05/3-20200421105117-14-U-P.png', 'https://sudokuprintables.com/wp-content/uploads/2020/03/sudoku-for-kids-beginners-and-amateur-activity-shelter.jpg', 'https://4.bp.blogspot.com/-PMSwF1wfNxU/Tj-gi-zfCFI/AAAAAAAAEOA/eJRSippnlpQ/s1600/100-sudoku-facil_Page_089-714889.jpg', 'https://sudokuprintables.com/wp-content/uploads/2020/03/printable-hard-sudoku-printable-difficult-sudoku-puzzles-8.jpg', 'https://3.bp.blogspot.com/-ggiGD61URG0/Tj7qXsjIj_I/AAAAAAAAEKE/AXYlw0w7YGc/s1600/100-sudoku-facil_Page_001.jpg', 'https://printablesudokufree.com/wp-content/uploads/2019/05/hard-sudoku-printable-canas-bergdorfbib-co-printable-sudoku-super-hard.jpg', 'https://sudokuprintables.com/wp-content/uploads/2020/03/sudoku-letters-puzzle-for-kids-http-www-kidscanhavefun-1-scaled.png', 'https://2.bp.blogspot.com/-3ZKRPPnHE1M/Tj7xWYqoBiI/AAAAAAAAELc/1vCdgiKLHW0/s1600/100-sudoku-facil_Page_010-764762.jpg', 'http://www.printablee.com/postpic/2010/12/printable-hard-sudoku-puzzles_43215.jpg', 'https://printablesudokufree.com/wp-content/uploads/2019/05/sudoku-grids-under-bergdorfbib-co-printable-blank-sudoku-squares.jpg', 'https://printablesudokufree.com/wp-content/uploads/2019/05/hard-sudoku-printable-canas-bergdorfbib-co-printable-sudoku-fiendish.jpg', 'https://images.theconversation.com/files/7533/original/3g6pkfzg-1328838628.jpg?ixlib=rb-1.1.0&q=45&auto=format&w=754&fit=clip', 'https://blogs.sas.com/content/sastraining/files/2015/01/Figure-1.png', 'https://printablesudokufree.com/wp-content/uploads/2019/05/sudoku-printable-free-medium-printable-sudoku-puzzle-1-my-printable-sudoku-for-4th-graders.jpg', 'http://photos1.blogger.com/blogger/546/1536/1024/500sudokus-acrobat_Page_001.jpg', 'https://4.bp.blogspot.com/-2TPwKAa-NfY/XFmIgwLNNwI/AAAAAAAAAUY/muQ7_sggJFETjReCtTsc-AouyUYYVl1ewCLcBGAs/s1600/1200px-Sudoku-by-L2G-20050714.svg.png', 'https://crosswordpuzzles-printable.com/wp-content/uploads/2019/06/1-million-sudoku-games-kaggle-printable-sudoku-puzzles-9x9.png', 'https://printablesudokufree.com/wp-content/uploads/2019/05/free-sudoku-for-your-local-publications-sudoku-of-the-day-printable-sudoku-large-print.png', 'https://printablesudokufree.com/wp-content/uploads/2019/05/easy-sudoku-printable-canas-bergdorfbib-co-printable-sudoku-beginner.jpg', 'http://coloringkids.org/wp-content/uploads/printable-sudoku-puzzles-2.jpg', 'https://printablesudokufree.com/wp-content/uploads/2019/05/worksheet-easy-sudoku-puzzles-printable-flvipymy-screenshoot-on-printable-sudoku-2-per-page-blank.jpg', 'https://sudokuprintables.com/wp-content/uploads/2020/04/10-beste-afbeeldingen-van-sudoku-wiskunde-spellen-en-spel.jpg', 'https://i.pinimg.com/736x/30/8c/00/308c009836bbb8e24e0404e02d26eb04--sudoku-puzzles.jpg', 'https://printablesudokufree.com/wp-content/uploads/2019/05/free-easy-sudoku-puzzle-05-sudoku-puzzler-printable-jigsaw-sudoku-pdf.jpg', 'http://1.bp.blogspot.com/-A5ZyknoDPMU/U81AyYrgm3I/AAAAAAAAJi4/48JEY0wuerY/s1600/easy-sudoku_000100-793311.jpg', 'https://lyanacrosswordpuzzles.com/wp-content/uploads/2019/06/hard-puzzle-free-sudoku-puzzles-printable-sudoku-4-per-page-printable-sudoku-puzzles-4-per-page.jpg', 'https://sudoku-club.de/wp-content/uploads/2017/01/sudoku.png', 'http://photos1.blogger.com/blogger/546/1536/1024/500sudokus-acrobat_Page_044.jpg', 'https://printable-crosswordpuzzles.com/wp-content/uploads/2019/06/about-printable-sudoku-puzzlesprintable-sudoku-puzzle-77-tory-printable-sudoku-puzzles-16x16-free.png', 'https://3.bp.blogspot.com/-WpXnBAjKNF0/ThmKiAD_TsI/AAAAAAAAAX4/zlvGhDlXY1U/s1600/21.jpg', 'http://www.printablee.com/postpic/2009/02/easy-printable-sudoku-puzzles_264522.png', 'https://printablesudokufree.com/wp-content/uploads/2019/05/sudoku-blank-under-bergdorfbib-co-printable-sudoku-1-per-page.png', 'https://www.freeprintabletm.com/wp-content/uploads/2021/04/four-sudoku-puzzles-of-comfortable-easy-yet-not-very.jpg', 'https://www.printablee.com/postpic/2011/01/free-printable-16x16-sudoku-puzzles_370901.jpg', 'https://oppidanlibrary.com/wp-content/uploads/2017/05/Easy-Sudoku-For-Kids-Download.png', 'http://photos1.blogger.com/blogger/546/1536/1024/500sudokus-acrobat_Page_027.jpg', 'https://printablesudokufree.com/wp-content/uploads/2019/05/sudoku-printable-free-medium-printable-sudoku-puzzle-1-my-printable-irregular-sudoku.jpg', 'http://3.bp.blogspot.com/-D4Qz6B64FIg/TagYHY-aaaI/AAAAAAAAJ2Q/tpL5FpVFVZA/s1600/difficult+sudoku.jpg', 'https://sudokuprintables.com/wp-content/uploads/2020/04/free-sudoku-puzzles-enjoy-daily-free-sudoku-puzzles-from-8-scaled.jpg', 'https://4.bp.blogspot.com/-DCxBRNZWc2g/UW-WlKixboI/AAAAAAAAAYU/ibeg35960TM/s1600/SUDOKU.jpg', 'https://lyanacrosswordpuzzles.com/wp-content/uploads/2019/06/sudoku-puzzler-free-printable-updated-sudoku-puzzles-with-a-printable-puzzle-sudoku.jpg', 'https://1.bp.blogspot.com/-msG6TL2pZEU/Tm71-UdjywI/AAAAAAAAK8I/aPqk174NsJY/s1600/easy+sudoku+to+print.jpg', 'https://sudokuprintables.com/wp-content/uploads/2020/03/printable-sudoku-postedmatt-at-0110-no-comments-a-2525.png', 'https://sudokuprintables.com/wp-content/uploads/2020/04/printable-sudoku-free-printable-easy-sudoku-puzzle-to-print-9.jpg', 'https://www.rd.com/wp-content/uploads/2020/12/Sudoku5.jpg', 'https://sudokuprintables.com/wp-content/uploads/2020/03/the-best-printable-blank-sudoku-4-per-page-obriens-website-3.jpg', 'https://sudokuprintables.com/wp-content/uploads/2020/04/sudoku-puzzles.jpg', 'http://photos1.blogger.com/blogger/546/1536/1024/500sudokus-acrobat_Page_009.jpg', 'https://i.etsystatic.com/21007064/r/il/a7012f/1988827094/il_fullxfull.1988827094_1e1r.jpg', 'http://baylorlariat.com/wp-content/uploads/2011/10/20111013pzsud-s.jpg', 'https://sudokuprintables.com/wp-content/uploads/2020/03/sudoku-with-letters-and-numbers-the-daily-sudoku-printable-1.jpg', 'http://2.bp.blogspot.com/-SIF33JGU0CA/UYNoQxv0CKI/AAAAAAAAAfU/hZNkoD6QATY/s1600/SUDOKU.jpg', 'http://1.bp.blogspot.com/-tsf27u1WzyM/UWZiSfrve8I/AAAAAAAAAPs/wk_C0e4e9Fc/s1600/SUDOKU.jpg', 'https://free-printablehq.com/wp-content/uploads/2019/07/5-best-photos-of-super-sudoku-16x16-print-monster-sudoku-16x16-sudoku-16x16-printable-free.jpg', 'https://printablesudokufree.com/wp-content/uploads/2019/05/sudoku-puzzles-free-sudoku-puzzles-printable-sudoku-4-per-page-blank.jpg', 'http://www.gamesavenue.net/gallery/mathematics-puzzle-games/sudoku_puzzle_game-copy.jpg']\n"
     ]
    }
   ],
   "source": [
    "print(urls)"
   ]
  },
  {
   "cell_type": "code",
   "execution_count": 40,
   "id": "5738d274-772b-4d3f-8fea-03014bac56da",
   "metadata": {},
   "outputs": [
    {
     "data": {
      "text/plain": [
       "(100,\n",
       " 'http://coloringkids.org/wp-content/uploads/printable-sudoku-puzzles-2.png')"
      ]
     },
     "execution_count": 40,
     "metadata": {},
     "output_type": "execute_result"
    }
   ],
   "source": [
    "urls = search_images_ddg('photographs of a sudoku puzzle', max_images=100)\n",
    "len(urls),urls[0]"
   ]
  },
  {
   "cell_type": "code",
   "execution_count": null,
   "id": "6c9714e7-088a-44d6-b6ef-f33497d7d3b7",
   "metadata": {},
   "outputs": [],
   "source": []
  }
 ],
 "metadata": {
  "kernelspec": {
   "display_name": "Python 3 (ipykernel)",
   "language": "python",
   "name": "python3"
  },
  "language_info": {
   "codemirror_mode": {
    "name": "ipython",
    "version": 3
   },
   "file_extension": ".py",
   "mimetype": "text/x-python",
   "name": "python",
   "nbconvert_exporter": "python",
   "pygments_lexer": "ipython3",
   "version": "3.11.5"
  }
 },
 "nbformat": 4,
 "nbformat_minor": 5
}
