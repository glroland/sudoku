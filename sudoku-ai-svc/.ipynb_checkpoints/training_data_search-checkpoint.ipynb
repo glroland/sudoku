{
 "cells": [
  {
   "cell_type": "markdown",
   "id": "f6a43218-a22c-42af-bc41-2096ec634fd8",
   "metadata": {},
   "source": [
    "# Sudoku Search for Training Data"
   ]
  },
  {
   "cell_type": "code",
   "execution_count": 31,
   "id": "57615e47-f1ab-4276-afcb-5c5868c7ab90",
   "metadata": {},
   "outputs": [],
   "source": [
    "import os\n",
    "import uuid\n",
    "import hashlib\n",
    "import torch\n",
    "import ray\n",
    "from fastbook import *"
   ]
  },
  {
   "cell_type": "code",
   "execution_count": 32,
   "id": "d33a9bf2-cd39-40c2-b261-5a8d97aa2678",
   "metadata": {},
   "outputs": [],
   "source": [
    "imageDir = \"./train/images\""
   ]
  },
  {
   "cell_type": "code",
   "execution_count": 33,
   "id": "1416e891-467d-4865-a70d-90fe61dc2353",
   "metadata": {},
   "outputs": [
    {
     "ename": "RuntimeError",
     "evalue": "Maybe you called ray.init twice by accident? This error can be suppressed by passing in 'ignore_reinit_error=True' or by calling 'ray.shutdown()' prior to 'ray.init()'.",
     "output_type": "error",
     "traceback": [
      "\u001b[0;31m---------------------------------------------------------------------------\u001b[0m",
      "\u001b[0;31mRuntimeError\u001b[0m                              Traceback (most recent call last)",
      "Cell \u001b[0;32mIn[33], line 3\u001b[0m\n\u001b[1;32m      1\u001b[0m hashCache \u001b[38;5;241m=\u001b[39m []\n\u001b[0;32m----> 3\u001b[0m \u001b[43mray\u001b[49m\u001b[38;5;241;43m.\u001b[39;49m\u001b[43minit\u001b[49m\u001b[43m(\u001b[49m\u001b[43m)\u001b[49m\n",
      "File \u001b[0;32m~/anaconda3/envs/sudoku-ai/lib/python3.10/site-packages/ray/_private/client_mode_hook.py:105\u001b[0m, in \u001b[0;36mclient_mode_hook.<locals>.wrapper\u001b[0;34m(*args, **kwargs)\u001b[0m\n\u001b[1;32m    103\u001b[0m     \u001b[38;5;28;01mif\u001b[39;00m func\u001b[38;5;241m.\u001b[39m\u001b[38;5;18m__name__\u001b[39m \u001b[38;5;241m!=\u001b[39m \u001b[38;5;124m\"\u001b[39m\u001b[38;5;124minit\u001b[39m\u001b[38;5;124m\"\u001b[39m \u001b[38;5;129;01mor\u001b[39;00m is_client_mode_enabled_by_default:\n\u001b[1;32m    104\u001b[0m         \u001b[38;5;28;01mreturn\u001b[39;00m \u001b[38;5;28mgetattr\u001b[39m(ray, func\u001b[38;5;241m.\u001b[39m\u001b[38;5;18m__name__\u001b[39m)(\u001b[38;5;241m*\u001b[39margs, \u001b[38;5;241m*\u001b[39m\u001b[38;5;241m*\u001b[39mkwargs)\n\u001b[0;32m--> 105\u001b[0m \u001b[38;5;28;01mreturn\u001b[39;00m \u001b[43mfunc\u001b[49m\u001b[43m(\u001b[49m\u001b[38;5;241;43m*\u001b[39;49m\u001b[43margs\u001b[49m\u001b[43m,\u001b[49m\u001b[43m \u001b[49m\u001b[38;5;241;43m*\u001b[39;49m\u001b[38;5;241;43m*\u001b[39;49m\u001b[43mkwargs\u001b[49m\u001b[43m)\u001b[49m\n",
      "File \u001b[0;32m~/anaconda3/envs/sudoku-ai/lib/python3.10/site-packages/ray/_private/worker.py:1386\u001b[0m, in \u001b[0;36minit\u001b[0;34m(address, num_cpus, num_gpus, resources, object_store_memory, local_mode, ignore_reinit_error, include_dashboard, dashboard_host, dashboard_port, job_config, configure_logging, logging_level, logging_format, log_to_driver, namespace, runtime_env, storage, **kwargs)\u001b[0m\n\u001b[1;32m   1384\u001b[0m         \u001b[38;5;28;01mreturn\u001b[39;00m RayContext(\u001b[38;5;28mdict\u001b[39m(_global_node\u001b[38;5;241m.\u001b[39maddress_info, node_id\u001b[38;5;241m=\u001b[39mnode_id\u001b[38;5;241m.\u001b[39mhex()))\n\u001b[1;32m   1385\u001b[0m     \u001b[38;5;28;01melse\u001b[39;00m:\n\u001b[0;32m-> 1386\u001b[0m         \u001b[38;5;28;01mraise\u001b[39;00m \u001b[38;5;167;01mRuntimeError\u001b[39;00m(\n\u001b[1;32m   1387\u001b[0m             \u001b[38;5;124m\"\u001b[39m\u001b[38;5;124mMaybe you called ray.init twice by accident? \u001b[39m\u001b[38;5;124m\"\u001b[39m\n\u001b[1;32m   1388\u001b[0m             \u001b[38;5;124m\"\u001b[39m\u001b[38;5;124mThis error can be suppressed by passing in \u001b[39m\u001b[38;5;124m\"\u001b[39m\n\u001b[1;32m   1389\u001b[0m             \u001b[38;5;124m\"\u001b[39m\u001b[38;5;124m'\u001b[39m\u001b[38;5;124mignore_reinit_error=True\u001b[39m\u001b[38;5;124m'\u001b[39m\u001b[38;5;124m or by calling \u001b[39m\u001b[38;5;124m\"\u001b[39m\n\u001b[1;32m   1390\u001b[0m             \u001b[38;5;124m\"\u001b[39m\u001b[38;5;124m'\u001b[39m\u001b[38;5;124mray.shutdown()\u001b[39m\u001b[38;5;124m'\u001b[39m\u001b[38;5;124m prior to \u001b[39m\u001b[38;5;124m'\u001b[39m\u001b[38;5;124mray.init()\u001b[39m\u001b[38;5;124m'\u001b[39m\u001b[38;5;124m.\u001b[39m\u001b[38;5;124m\"\u001b[39m\n\u001b[1;32m   1391\u001b[0m         )\n\u001b[1;32m   1393\u001b[0m _system_config \u001b[38;5;241m=\u001b[39m _system_config \u001b[38;5;129;01mor\u001b[39;00m {}\n\u001b[1;32m   1394\u001b[0m \u001b[38;5;28;01mif\u001b[39;00m \u001b[38;5;129;01mnot\u001b[39;00m \u001b[38;5;28misinstance\u001b[39m(_system_config, \u001b[38;5;28mdict\u001b[39m):\n",
      "\u001b[0;31mRuntimeError\u001b[0m: Maybe you called ray.init twice by accident? This error can be suppressed by passing in 'ignore_reinit_error=True' or by calling 'ray.shutdown()' prior to 'ray.init()'."
     ]
    }
   ],
   "source": [
    "hashCache = []\n",
    "\n",
    "if ray.is_initialized() == False:\n",
    "    ray.init()"
   ]
  },
  {
   "cell_type": "code",
   "execution_count": null,
   "id": "4ad0876b-21fa-4885-b1d0-b81485b3cf15",
   "metadata": {},
   "outputs": [],
   "source": [
    "urls = search_images_ddg('sudoku', max_images=300)\n",
    "len(urls),urls[0]"
   ]
  },
  {
   "cell_type": "code",
   "execution_count": null,
   "id": "29bce2c6-0111-4b03-87a4-6bd8edc42151",
   "metadata": {},
   "outputs": [],
   "source": [
    "def calculateMd5(filename):\n",
    "    runningMd5 = hashlib.md5()\n",
    "    with open(filename, \"rb\") as f:\n",
    "        for chunk in iter(lambda: f.read(4096), b\"\"):\n",
    "            runningMd5.update(chunk)\n",
    "    return runningMd5.hexdigest()"
   ]
  },
  {
   "cell_type": "code",
   "execution_count": null,
   "id": "acb09a16-600d-42b6-8723-4516373878a6",
   "metadata": {},
   "outputs": [],
   "source": [
    "def doesContentAlreadyExist(filename, dir):\n",
    "    newFileHash = calculateMd5(filename)\n",
    "\n",
    "    if (len(hashCache) == 0):\n",
    "        for f in os.listdir(dir):\n",
    "            absFile = os.path.join(dir, f)\n",
    "            if os.path.isfile(absFile):\n",
    "                hash = calculateMd5(absFile)\n",
    "                hashCache.append(hash)\n",
    "\n",
    "    for hash in hashCache:\n",
    "        if (hash == newFileHash):\n",
    "            return True\n",
    "            \n",
    "    return False"
   ]
  },
  {
   "cell_type": "code",
   "execution_count": null,
   "id": "1573d1e0-770f-4bec-b417-4c1c5f4be1c9",
   "metadata": {},
   "outputs": [],
   "source": [
    "for url in urls:\n",
    "    url = url.split('?')[0]\n",
    "    print (\"Processing URL: \" + url)\n",
    "    e = re.findall('\\.[a-z]+$', url)\n",
    "    if (len(e)) == 1:\n",
    "        fileExtension = e[0]\n",
    "        randomName = str(uuid.uuid4().hex)\n",
    "        filename = randomName + fileExtension\n",
    "        tempFilename = \"/tmp/\" + filename\n",
    "        \n",
    "        download_url(url, tempFilename)\n",
    "\n",
    "        if doesContentAlreadyExist(tempFilename, imageDir) == True:\n",
    "            print (\"Found: \" + tempFilename)\n",
    "            os.remove(tempFilename)\n",
    "        else:\n",
    "            print (\"NEW: \" + tempFilename)\n",
    "            os.replace(tempFilename, imageDir + \"/\" + filename)\n",
    "\n",
    "    else:\n",
    "        print (\"Unable to process image due to unexpected extension: \" + url)"
   ]
  },
  {
   "cell_type": "code",
   "execution_count": null,
   "id": "2b3e2950-a6bf-4c9c-8a37-28a646ac78fc",
   "metadata": {},
   "outputs": [],
   "source": [
    "ds = ray.data.read_images(imageDir)\n",
    "ds.size_bytes()\n"
   ]
  },
  {
   "cell_type": "code",
   "execution_count": null,
   "id": "01d17ecb-4f35-4c4e-8024-28ee1ab266a5",
   "metadata": {},
   "outputs": [],
   "source": []
  }
 ],
 "metadata": {
  "kernelspec": {
   "display_name": "Python 3 (ipykernel)",
   "language": "python",
   "name": "python3"
  },
  "language_info": {
   "codemirror_mode": {
    "name": "ipython",
    "version": 3
   },
   "file_extension": ".py",
   "mimetype": "text/x-python",
   "name": "python",
   "nbconvert_exporter": "python",
   "pygments_lexer": "ipython3",
   "version": "3.10.0"
  }
 },
 "nbformat": 4,
 "nbformat_minor": 5
}
